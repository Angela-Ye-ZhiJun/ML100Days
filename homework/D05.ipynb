{
 "cells": [
  {
   "cell_type": "code",
   "execution_count": 1,
   "metadata": {},
   "outputs": [],
   "source": [
    "import numpy as np"
   ]
  },
  {
   "cell_type": "code",
   "execution_count": 2,
   "metadata": {},
   "outputs": [],
   "source": [
    "english_score = np.array([55,89,76,65,48,70])\n",
    "math_score = np.array([60,85,60,68,np.nan,60])\n",
    "chinese_score = np.array([65,90,82,72,66,77])"
   ]
  },
  {
   "cell_type": "code",
   "execution_count": 7,
   "metadata": {},
   "outputs": [
    {
     "name": "stdout",
     "output_type": "stream",
     "text": [
      "eng_mean= 67.16666666666667\n",
      "math_mean= 66.6\n",
      "chi_mean= 75.33333333333333\n",
      "\n",
      "eng_max= 89\n",
      "math_max= 85.0\n",
      "chi_max= 90\n",
      "\n",
      "eng_min= 48\n",
      "math_min= 60.0\n",
      "chi_min= 65\n",
      "\n",
      "eng_std= 13.433995020924426\n",
      "math_std= 9.707728879609279\n",
      "chi_std= 8.825468196582484\n"
     ]
    }
   ],
   "source": [
    "# 第一題:請計算各科成績平均、最大值、最小值、標準差，其中數學缺一筆資料可忽略\n",
    "print(\"eng_mean=\", np.mean(english_score)) \n",
    "print(\"math_mean=\", np.nanmean(math_score)) \n",
    "print(\"chi_mean=\", np.mean(chinese_score))  \n",
    "print()\n",
    "\n",
    "print(\"eng_max=\", np.nanmax(english_score))\n",
    "print(\"math_max=\", np.nanmax(math_score))\n",
    "print(\"chi_max=\", np.nanmax(chinese_score))\n",
    "print()\n",
    "\n",
    "print(\"eng_min=\", np.nanmin(english_score))\n",
    "print(\"math_min=\", np.nanmin(math_score))\n",
    "print(\"chi_min=\", np.nanmin(chinese_score))\n",
    "print()\n",
    "\n",
    "print(\"eng_std=\", np.std(english_score)) \n",
    "print(\"math_std=\", np.nanstd(math_score))\n",
    "print(\"chi_std=\", np.std(chinese_score))"
   ]
  },
  {
   "cell_type": "code",
   "execution_count": 8,
   "metadata": {},
   "outputs": [
    {
     "name": "stdout",
     "output_type": "stream",
     "text": [
      "new_math_mean= 64.66666666666667\n",
      "new_math_max= 85.0\n",
      "new_math_min= 55.0\n",
      "new_math_std= 9.860132971832694\n"
     ]
    }
   ],
   "source": [
    "# 第二題:第五位同學補考數學後成績為55，請計算補考後數學成績平均、最大值、最小值、標準差?\n",
    "math_score[4] = 55\n",
    "print(\"new_math_mean=\", np.nanmean(math_score)) \n",
    "print(\"new_math_max=\", np.nanmax(math_score))\n",
    "print(\"new_math_min=\", np.nanmin(math_score))\n",
    "print(\"new_math_std=\", np.nanstd(math_score))"
   ]
  },
  {
   "cell_type": "code",
   "execution_count": 28,
   "metadata": {},
   "outputs": [
    {
     "name": "stdout",
     "output_type": "stream",
     "text": [
      "[[1.         0.97792828]\n",
      " [0.97792828 1.        ]]\n",
      "[[1.         0.74056803]\n",
      " [0.74056803 1.        ]]\n",
      "English\n"
     ]
    }
   ],
   "source": [
    "# 第三題:用補考後資料找出與國文成績相關係數最高的學科?\n",
    "eng_compare = np.corrcoef(english_score, chinese_score)\n",
    "print(eng_compare)\n",
    "math_compare = np.corrcoef(math_score, chinese_score)\n",
    "print(math_compare)\n",
    "\n",
    "if np.all(np.greater_equal(eng_compare, math_compare)):\n",
    "    print(\"English\")\n",
    "else:\n",
    "    print(\"Math\")"
   ]
  },
  {
   "cell_type": "code",
   "execution_count": null,
   "metadata": {},
   "outputs": [],
   "source": []
  }
 ],
 "metadata": {
  "kernelspec": {
   "display_name": "Python 3",
   "language": "python",
   "name": "python3"
  },
  "language_info": {
   "codemirror_mode": {
    "name": "ipython",
    "version": 3
   },
   "file_extension": ".py",
   "mimetype": "text/x-python",
   "name": "python",
   "nbconvert_exporter": "python",
   "pygments_lexer": "ipython3",
   "version": "3.8.3"
  }
 },
 "nbformat": 4,
 "nbformat_minor": 4
}
